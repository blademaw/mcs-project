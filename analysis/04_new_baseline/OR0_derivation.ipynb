{
 "cells": [
  {
   "cell_type": "code",
   "execution_count": 1,
   "id": "3a6524e9-343c-45e4-b537-ed18a75602dc",
   "metadata": {},
   "outputs": [],
   "source": [
    "import pandas as pd"
   ]
  },
  {
   "cell_type": "code",
   "execution_count": 11,
   "id": "58e19b97-c00d-4d29-95f3-eb04286be350",
   "metadata": {},
   "outputs": [],
   "source": [
    "df = pd.read_excel(\"../../../data/10_1371_journal_pone_0289097/pone.0289097.s001.xlsx\", sheet_name=\"Sheet1\")"
   ]
  },
  {
   "cell_type": "code",
   "execution_count": 12,
   "id": "0798e61b-d2eb-4f8b-b6db-3520b08586c6",
   "metadata": {},
   "outputs": [
    {
     "data": {
      "text/html": [
       "<div>\n",
       "<style scoped>\n",
       "    .dataframe tbody tr th:only-of-type {\n",
       "        vertical-align: middle;\n",
       "    }\n",
       "\n",
       "    .dataframe tbody tr th {\n",
       "        vertical-align: top;\n",
       "    }\n",
       "\n",
       "    .dataframe thead th {\n",
       "        text-align: right;\n",
       "    }\n",
       "</style>\n",
       "<table border=\"1\" class=\"dataframe\">\n",
       "  <thead>\n",
       "    <tr style=\"text-align: right;\">\n",
       "      <th></th>\n",
       "      <th>id</th>\n",
       "      <th>dateofinterview</th>\n",
       "      <th>age</th>\n",
       "      <th>numberofchildren</th>\n",
       "      <th>ageatfirstbirth</th>\n",
       "      <th>ageyoungest</th>\n",
       "      <th>attendedformaleducation</th>\n",
       "      <th>educationlvl</th>\n",
       "      <th>electricity</th>\n",
       "      <th>radio</th>\n",
       "      <th>...</th>\n",
       "      <th>howoftendoyoulistentoradio</th>\n",
       "      <th>howoftendoyouwatchtelevision</th>\n",
       "      <th>massageaboutmalariapreventiontre</th>\n",
       "      <th>whatwherethemassagesabout</th>\n",
       "      <th>perceivedsusceptibility</th>\n",
       "      <th>perceivedseverity</th>\n",
       "      <th>susceptibility</th>\n",
       "      <th>severity</th>\n",
       "      <th>cat_susceptbility</th>\n",
       "      <th>cat_severity</th>\n",
       "    </tr>\n",
       "  </thead>\n",
       "  <tbody>\n",
       "    <tr>\n",
       "      <th>0</th>\n",
       "      <td>1</td>\n",
       "      <td>2015-01-21</td>\n",
       "      <td>22</td>\n",
       "      <td>3</td>\n",
       "      <td>3</td>\n",
       "      <td>3</td>\n",
       "      <td>1</td>\n",
       "      <td>2.0</td>\n",
       "      <td>1</td>\n",
       "      <td>1</td>\n",
       "      <td>...</td>\n",
       "      <td>0</td>\n",
       "      <td>4</td>\n",
       "      <td>1</td>\n",
       "      <td>1.0</td>\n",
       "      <td>14</td>\n",
       "      <td>1</td>\n",
       "      <td>14.0</td>\n",
       "      <td>1</td>\n",
       "      <td>LOW</td>\n",
       "      <td>LOW</td>\n",
       "    </tr>\n",
       "    <tr>\n",
       "      <th>1</th>\n",
       "      <td>2</td>\n",
       "      <td>2015-01-21</td>\n",
       "      <td>21</td>\n",
       "      <td>1</td>\n",
       "      <td>7</td>\n",
       "      <td>0</td>\n",
       "      <td>1</td>\n",
       "      <td>2.0</td>\n",
       "      <td>0</td>\n",
       "      <td>1</td>\n",
       "      <td>...</td>\n",
       "      <td>4</td>\n",
       "      <td>0</td>\n",
       "      <td>1</td>\n",
       "      <td>8.0</td>\n",
       "      <td>16</td>\n",
       "      <td>2</td>\n",
       "      <td>16.0</td>\n",
       "      <td>2</td>\n",
       "      <td>LOW</td>\n",
       "      <td>HIGH</td>\n",
       "    </tr>\n",
       "    <tr>\n",
       "      <th>2</th>\n",
       "      <td>3</td>\n",
       "      <td>2015-01-20</td>\n",
       "      <td>26</td>\n",
       "      <td>3</td>\n",
       "      <td>6</td>\n",
       "      <td>3</td>\n",
       "      <td>1</td>\n",
       "      <td>4.0</td>\n",
       "      <td>0</td>\n",
       "      <td>1</td>\n",
       "      <td>...</td>\n",
       "      <td>4</td>\n",
       "      <td>0</td>\n",
       "      <td>1</td>\n",
       "      <td>8.0</td>\n",
       "      <td>14</td>\n",
       "      <td>1</td>\n",
       "      <td>14.0</td>\n",
       "      <td>1</td>\n",
       "      <td>LOW</td>\n",
       "      <td>LOW</td>\n",
       "    </tr>\n",
       "    <tr>\n",
       "      <th>3</th>\n",
       "      <td>4</td>\n",
       "      <td>2015-01-16</td>\n",
       "      <td>31</td>\n",
       "      <td>5</td>\n",
       "      <td>2</td>\n",
       "      <td>2</td>\n",
       "      <td>1</td>\n",
       "      <td>2.0</td>\n",
       "      <td>0</td>\n",
       "      <td>0</td>\n",
       "      <td>...</td>\n",
       "      <td>0</td>\n",
       "      <td>0</td>\n",
       "      <td>1</td>\n",
       "      <td>4.0</td>\n",
       "      <td>20</td>\n",
       "      <td>1</td>\n",
       "      <td>20.0</td>\n",
       "      <td>1</td>\n",
       "      <td>HIGH</td>\n",
       "      <td>LOW</td>\n",
       "    </tr>\n",
       "    <tr>\n",
       "      <th>4</th>\n",
       "      <td>5</td>\n",
       "      <td>2015-01-21</td>\n",
       "      <td>18</td>\n",
       "      <td>1</td>\n",
       "      <td>5</td>\n",
       "      <td>0</td>\n",
       "      <td>1</td>\n",
       "      <td>4.0</td>\n",
       "      <td>1</td>\n",
       "      <td>0</td>\n",
       "      <td>...</td>\n",
       "      <td>1</td>\n",
       "      <td>3</td>\n",
       "      <td>1</td>\n",
       "      <td>8.0</td>\n",
       "      <td>17</td>\n",
       "      <td>1</td>\n",
       "      <td>17.0</td>\n",
       "      <td>1</td>\n",
       "      <td>HIGH</td>\n",
       "      <td>LOW</td>\n",
       "    </tr>\n",
       "    <tr>\n",
       "      <th>...</th>\n",
       "      <td>...</td>\n",
       "      <td>...</td>\n",
       "      <td>...</td>\n",
       "      <td>...</td>\n",
       "      <td>...</td>\n",
       "      <td>...</td>\n",
       "      <td>...</td>\n",
       "      <td>...</td>\n",
       "      <td>...</td>\n",
       "      <td>...</td>\n",
       "      <td>...</td>\n",
       "      <td>...</td>\n",
       "      <td>...</td>\n",
       "      <td>...</td>\n",
       "      <td>...</td>\n",
       "      <td>...</td>\n",
       "      <td>...</td>\n",
       "      <td>...</td>\n",
       "      <td>...</td>\n",
       "      <td>...</td>\n",
       "      <td>...</td>\n",
       "    </tr>\n",
       "    <tr>\n",
       "      <th>225</th>\n",
       "      <td>226</td>\n",
       "      <td>2015-01-12</td>\n",
       "      <td>26</td>\n",
       "      <td>4</td>\n",
       "      <td>5</td>\n",
       "      <td>1</td>\n",
       "      <td>1</td>\n",
       "      <td>NaN</td>\n",
       "      <td>0</td>\n",
       "      <td>0</td>\n",
       "      <td>...</td>\n",
       "      <td>2</td>\n",
       "      <td>0</td>\n",
       "      <td>0</td>\n",
       "      <td>NaN</td>\n",
       "      <td>17</td>\n",
       "      <td>1</td>\n",
       "      <td>17.0</td>\n",
       "      <td>1</td>\n",
       "      <td>HIGH</td>\n",
       "      <td>LOW</td>\n",
       "    </tr>\n",
       "    <tr>\n",
       "      <th>226</th>\n",
       "      <td>227</td>\n",
       "      <td>2015-01-12</td>\n",
       "      <td>33</td>\n",
       "      <td>7</td>\n",
       "      <td>3</td>\n",
       "      <td>2</td>\n",
       "      <td>1</td>\n",
       "      <td>NaN</td>\n",
       "      <td>0</td>\n",
       "      <td>1</td>\n",
       "      <td>...</td>\n",
       "      <td>4</td>\n",
       "      <td>0</td>\n",
       "      <td>1</td>\n",
       "      <td>1.0</td>\n",
       "      <td>15</td>\n",
       "      <td>1</td>\n",
       "      <td>15.0</td>\n",
       "      <td>1</td>\n",
       "      <td>LOW</td>\n",
       "      <td>LOW</td>\n",
       "    </tr>\n",
       "    <tr>\n",
       "      <th>227</th>\n",
       "      <td>228</td>\n",
       "      <td>2015-01-12</td>\n",
       "      <td>19</td>\n",
       "      <td>1</td>\n",
       "      <td>6</td>\n",
       "      <td>0</td>\n",
       "      <td>1</td>\n",
       "      <td>NaN</td>\n",
       "      <td>1</td>\n",
       "      <td>1</td>\n",
       "      <td>...</td>\n",
       "      <td>4</td>\n",
       "      <td>0</td>\n",
       "      <td>1</td>\n",
       "      <td>1.0</td>\n",
       "      <td>14</td>\n",
       "      <td>2</td>\n",
       "      <td>NaN</td>\n",
       "      <td>2</td>\n",
       "      <td>NaN</td>\n",
       "      <td>HIGH</td>\n",
       "    </tr>\n",
       "    <tr>\n",
       "      <th>228</th>\n",
       "      <td>229</td>\n",
       "      <td>2015-01-19</td>\n",
       "      <td>20</td>\n",
       "      <td>1</td>\n",
       "      <td>7</td>\n",
       "      <td>0</td>\n",
       "      <td>1</td>\n",
       "      <td>NaN</td>\n",
       "      <td>1</td>\n",
       "      <td>1</td>\n",
       "      <td>...</td>\n",
       "      <td>4</td>\n",
       "      <td>4</td>\n",
       "      <td>1</td>\n",
       "      <td>1.0</td>\n",
       "      <td>18</td>\n",
       "      <td>3</td>\n",
       "      <td>18.0</td>\n",
       "      <td>3</td>\n",
       "      <td>HIGH</td>\n",
       "      <td>HIGH</td>\n",
       "    </tr>\n",
       "    <tr>\n",
       "      <th>229</th>\n",
       "      <td>230</td>\n",
       "      <td>2015-01-12</td>\n",
       "      <td>19</td>\n",
       "      <td>1</td>\n",
       "      <td>9</td>\n",
       "      <td>0</td>\n",
       "      <td>0</td>\n",
       "      <td>NaN</td>\n",
       "      <td>0</td>\n",
       "      <td>1</td>\n",
       "      <td>...</td>\n",
       "      <td>4</td>\n",
       "      <td>0</td>\n",
       "      <td>1</td>\n",
       "      <td>1.0</td>\n",
       "      <td>15</td>\n",
       "      <td>1</td>\n",
       "      <td>15.0</td>\n",
       "      <td>1</td>\n",
       "      <td>LOW</td>\n",
       "      <td>LOW</td>\n",
       "    </tr>\n",
       "  </tbody>\n",
       "</table>\n",
       "<p>230 rows × 70 columns</p>\n",
       "</div>"
      ],
      "text/plain": [
       "      id dateofinterview  age  numberofchildren  ageatfirstbirth  ageyoungest  \\\n",
       "0      1      2015-01-21   22                 3                3            3   \n",
       "1      2      2015-01-21   21                 1                7            0   \n",
       "2      3      2015-01-20   26                 3                6            3   \n",
       "3      4      2015-01-16   31                 5                2            2   \n",
       "4      5      2015-01-21   18                 1                5            0   \n",
       "..   ...             ...  ...               ...              ...          ...   \n",
       "225  226      2015-01-12   26                 4                5            1   \n",
       "226  227      2015-01-12   33                 7                3            2   \n",
       "227  228      2015-01-12   19                 1                6            0   \n",
       "228  229      2015-01-19   20                 1                7            0   \n",
       "229  230      2015-01-12   19                 1                9            0   \n",
       "\n",
       "     attendedformaleducation  educationlvl  electricity  radio  ...  \\\n",
       "0                          1           2.0            1      1  ...   \n",
       "1                          1           2.0            0      1  ...   \n",
       "2                          1           4.0            0      1  ...   \n",
       "3                          1           2.0            0      0  ...   \n",
       "4                          1           4.0            1      0  ...   \n",
       "..                       ...           ...          ...    ...  ...   \n",
       "225                        1           NaN            0      0  ...   \n",
       "226                        1           NaN            0      1  ...   \n",
       "227                        1           NaN            1      1  ...   \n",
       "228                        1           NaN            1      1  ...   \n",
       "229                        0           NaN            0      1  ...   \n",
       "\n",
       "     howoftendoyoulistentoradio  howoftendoyouwatchtelevision  \\\n",
       "0                             0                             4   \n",
       "1                             4                             0   \n",
       "2                             4                             0   \n",
       "3                             0                             0   \n",
       "4                             1                             3   \n",
       "..                          ...                           ...   \n",
       "225                           2                             0   \n",
       "226                           4                             0   \n",
       "227                           4                             0   \n",
       "228                           4                             4   \n",
       "229                           4                             0   \n",
       "\n",
       "     massageaboutmalariapreventiontre  whatwherethemassagesabout  \\\n",
       "0                                   1                        1.0   \n",
       "1                                   1                        8.0   \n",
       "2                                   1                        8.0   \n",
       "3                                   1                        4.0   \n",
       "4                                   1                        8.0   \n",
       "..                                ...                        ...   \n",
       "225                                 0                        NaN   \n",
       "226                                 1                        1.0   \n",
       "227                                 1                        1.0   \n",
       "228                                 1                        1.0   \n",
       "229                                 1                        1.0   \n",
       "\n",
       "     perceivedsusceptibility  perceivedseverity  susceptibility  severity  \\\n",
       "0                         14                  1            14.0         1   \n",
       "1                         16                  2            16.0         2   \n",
       "2                         14                  1            14.0         1   \n",
       "3                         20                  1            20.0         1   \n",
       "4                         17                  1            17.0         1   \n",
       "..                       ...                ...             ...       ...   \n",
       "225                       17                  1            17.0         1   \n",
       "226                       15                  1            15.0         1   \n",
       "227                       14                  2             NaN         2   \n",
       "228                       18                  3            18.0         3   \n",
       "229                       15                  1            15.0         1   \n",
       "\n",
       "     cat_susceptbility  cat_severity  \n",
       "0                  LOW           LOW  \n",
       "1                  LOW          HIGH  \n",
       "2                  LOW           LOW  \n",
       "3                 HIGH           LOW  \n",
       "4                 HIGH           LOW  \n",
       "..                 ...           ...  \n",
       "225               HIGH           LOW  \n",
       "226                LOW           LOW  \n",
       "227                NaN          HIGH  \n",
       "228               HIGH          HIGH  \n",
       "229                LOW           LOW  \n",
       "\n",
       "[230 rows x 70 columns]"
      ]
     },
     "execution_count": 12,
     "metadata": {},
     "output_type": "execute_result"
    }
   ],
   "source": [
    "df"
   ]
  },
  {
   "cell_type": "markdown",
   "id": "181bea9e-739f-4f8e-b4d2-a25baf5da098",
   "metadata": {},
   "source": [
    "## Deriving susceptibility, severity"
   ]
  },
  {
   "cell_type": "code",
   "execution_count": 13,
   "id": "36390430-90d2-4a36-b84a-267c62583bf6",
   "metadata": {},
   "outputs": [],
   "source": [
    "df = df[~(df.q301.isna() | df.q402.isna())].reset_index(drop=True)"
   ]
  },
  {
   "cell_type": "code",
   "execution_count": 14,
   "id": "7b938ba1-ad9c-45ee-938d-45d23b81e9ef",
   "metadata": {},
   "outputs": [],
   "source": [
    "df[\"perceived_susceptibility\"] = df.q301.map(lambda x : True if x <= 2 else False)\n",
    "df[\"perceived_severity\"]       = df.q402.map(lambda x : True if x <= 2 else False)"
   ]
  },
  {
   "cell_type": "markdown",
   "id": "b27aa86f-c336-42fc-bd7a-adc38eff0c55",
   "metadata": {},
   "source": [
    "$p(\\text{behaviour}\\mid\\text{perceived susceptibility, severity}=\\text{low})=p(\\text{ITN use}=1\\mid\\text{perceived susceptibility, severity}=\\text{low})$"
   ]
  },
  {
   "cell_type": "code",
   "execution_count": 34,
   "id": "5a78effb-6d86-417c-bb68-46c1e6afa623",
   "metadata": {},
   "outputs": [
    {
     "data": {
      "text/plain": [
       "1.9536423841059603"
      ]
     },
     "execution_count": 34,
     "metadata": {},
     "output_type": "execute_result"
    }
   ],
   "source": [
    "df[df.perceived_susceptibility & df.perceived_severity].howoftenusemosquitonet.mean()"
   ]
  },
  {
   "cell_type": "code",
   "execution_count": 35,
   "id": "981d3eb2-eb98-4d36-be76-573e36e6c27b",
   "metadata": {},
   "outputs": [
    {
     "data": {
      "text/plain": [
       "1.4285714285714286"
      ]
     },
     "execution_count": 35,
     "metadata": {},
     "output_type": "execute_result"
    }
   ],
   "source": [
    "df[~(df.perceived_susceptibility | df.perceived_severity)].howoftenusemosquitonet.mean()"
   ]
  },
  {
   "cell_type": "code",
   "execution_count": 31,
   "id": "922efbda-20d7-45d6-8120-002ea0e6a5c7",
   "metadata": {},
   "outputs": [
    {
     "data": {
      "text/plain": [
       "(152, 7)"
      ]
     },
     "execution_count": 31,
     "metadata": {},
     "output_type": "execute_result"
    }
   ],
   "source": [
    "(len(df[df.perceived_susceptibility & df.perceived_severity].howoftenusemosquitonet),\n",
    "len(df[~(df.perceived_susceptibility | df.perceived_severity)].howoftenusemosquitonet))"
   ]
  },
  {
   "cell_type": "code",
   "execution_count": null,
   "id": "c5dbf671-2639-45f8-a25c-0c4b378ea6db",
   "metadata": {},
   "outputs": [],
   "source": []
  },
  {
   "cell_type": "code",
   "execution_count": 8,
   "id": "21b1817c-5aa7-4b3a-93ec-79469ee49544",
   "metadata": {},
   "outputs": [],
   "source": [
    "df = df[~(df.cat_susceptbility.isna() | df.cat_severity.isna())].reset_index(drop=True)"
   ]
  },
  {
   "cell_type": "code",
   "execution_count": 18,
   "id": "46c3febb-c6a0-4f26-944f-2332dc92ae38",
   "metadata": {},
   "outputs": [
    {
     "data": {
      "text/plain": [
       "sleepinmosquitonetlastnight  cat_susceptbility\n",
       "0                            HIGH                 21\n",
       "                             LOW                  19\n",
       "1                            HIGH                 67\n",
       "                             LOW                  72\n",
       "Name: id, dtype: int64"
      ]
     },
     "execution_count": 18,
     "metadata": {},
     "output_type": "execute_result"
    }
   ],
   "source": [
    "susc = df.groupby(by=['sleepinmosquitonetlastnight', 'cat_susceptbility']).id.count()\n",
    "susc"
   ]
  },
  {
   "cell_type": "code",
   "execution_count": 19,
   "id": "eb2e3a61-b3aa-498e-9959-abeb0c603b22",
   "metadata": {},
   "outputs": [
    {
     "data": {
      "text/plain": [
       "sleepinmosquitonetlastnight  cat_severity\n",
       "0                            HIGH            15\n",
       "                             LOW             25\n",
       "1                            HIGH            43\n",
       "                             LOW             96\n",
       "Name: id, dtype: int64"
      ]
     },
     "execution_count": 19,
     "metadata": {},
     "output_type": "execute_result"
    }
   ],
   "source": [
    "sev = df.groupby(by=['sleepinmosquitonetlastnight', 'cat_severity']).id.count()\n",
    "sev"
   ]
  },
  {
   "cell_type": "markdown",
   "id": "85a61663-5952-40e4-b7e8-bf93e502d8d9",
   "metadata": {},
   "source": [
    "$p(\\text{behaviour}\\mid\\text{perceived susceptibility, severity}=\\text{low})=p(\\text{ITN use}=1\\mid\\text{perceived susceptibility, severity}=\\text{low})$"
   ]
  },
  {
   "cell_type": "markdown",
   "id": "5808fcc6-d207-4c36-9e61-b38e8fa34a0e",
   "metadata": {},
   "source": [
    "Derive frequent use as '1' or '2' in \"how often do you use?\" => 3–5, consider infrequent"
   ]
  },
  {
   "cell_type": "code",
   "execution_count": 49,
   "id": "b6e81607-b9e1-438a-8e07-f0fada784533",
   "metadata": {},
   "outputs": [],
   "source": [
    "df[\"freq_use\"] = df.howoftenusemosquitonet.map(lambda x : 1 if (x > 0 and x < 3) else 0)"
   ]
  },
  {
   "cell_type": "code",
   "execution_count": 50,
   "id": "12231387-6dcf-4af0-b70c-15d9af796187",
   "metadata": {},
   "outputs": [
    {
     "data": {
      "text/plain": [
       "0.7727272727272727"
      ]
     },
     "execution_count": 50,
     "metadata": {},
     "output_type": "execute_result"
    }
   ],
   "source": [
    "low_both = df[(df.cat_susceptbility == \"LOW\") & (df.cat_severity == \"LOW\")]\n",
    "low_both.freq_use.sum()/len(low_both)"
   ]
  },
  {
   "cell_type": "code",
   "execution_count": 51,
   "id": "a2461399-ea52-4e80-82ff-b778efeee81f",
   "metadata": {},
   "outputs": [
    {
     "data": {
      "text/plain": [
       "0.7272727272727273"
      ]
     },
     "execution_count": 51,
     "metadata": {},
     "output_type": "execute_result"
    }
   ],
   "source": [
    "low_both = df[(df.cat_susceptbility == \"HIGH\") & (df.cat_severity == \"HIGH\")]\n",
    "low_both.freq_use.sum()/len(low_both)"
   ]
  },
  {
   "cell_type": "code",
   "execution_count": 33,
   "id": "4f9503a1-bee5-41f2-9357-0db0c6e9c6bc",
   "metadata": {},
   "outputs": [
    {
     "name": "stdout",
     "output_type": "stream",
     "text": [
      "p:\t0.3687150837988827\n",
      "OR:\t0.5840707964601769\n"
     ]
    }
   ],
   "source": [
    "p = ((df.cat_susceptbility == \"LOW\") & (df.cat_severity == \"LOW\")).sum()/len(df)\n",
    "print(f\"p:\\t{p}\\nOR:\\t{p/(1-p)}\")"
   ]
  },
  {
   "cell_type": "code",
   "execution_count": null,
   "id": "c34a0782-0c6a-4ae5-9513-ed17f28a7d23",
   "metadata": {},
   "outputs": [],
   "source": []
  },
  {
   "cell_type": "code",
   "execution_count": null,
   "id": "0718c8b3-be47-41f4-9f6c-7cdcd28f8af1",
   "metadata": {},
   "outputs": [],
   "source": []
  }
 ],
 "metadata": {
  "kernelspec": {
   "display_name": "Python 3 (ipykernel)",
   "language": "python",
   "name": "python3"
  },
  "language_info": {
   "codemirror_mode": {
    "name": "ipython",
    "version": 3
   },
   "file_extension": ".py",
   "mimetype": "text/x-python",
   "name": "python",
   "nbconvert_exporter": "python",
   "pygments_lexer": "ipython3",
   "version": "3.11.1"
  }
 },
 "nbformat": 4,
 "nbformat_minor": 5
}
